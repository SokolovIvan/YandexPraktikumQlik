{
 "cells": [
  {
   "cell_type": "markdown",
   "metadata": {},
   "source": [
    "#### Общая информация\n",
    "\n",
    "Целью исследования является установить зависимость рыночной стоимости объектов недвижимости, от различных факторов.\n",
    "\n",
    "Для исследования представлена таблица, в которой приведены данные из объявлений о продаже объектов недвижимости, дополненные объективными данными об объектах из карт.\n",
    "\n",
    "#### Что сделано\n",
    "\n",
    "Заполнены пропуски, исправлены ошибки, сделаны выводы о ценах предложения на квартиры в зависимости от разных факторов, для разных групп квартир"
   ]
  },
  {
   "cell_type": "code",
   "execution_count": null,
   "metadata": {},
   "outputs": [],
   "source": [
    "import csv\n",
    "import pandas as pd\n",
    "data = pd.read_csv('/datasets/real_estate_data.csv', sep= '\\t')\n",
    "print(data.info())"
   ]
  },
  {
   "cell_type": "code",
   "execution_count": null,
   "metadata": {},
   "outputs": [],
   "source": [
    "data['price_bym'] = data['last_price'] / data['total_area'] / 1000\n",
    "data['price_bym'].astype('int')\n",
    "data['price_bym'].describe()"
   ]
  },
  {
   "cell_type": "code",
   "execution_count": null,
   "metadata": {},
   "outputs": [],
   "source": [
    "print(data['building_series_id'].unique())"
   ]
  },
  {
   "cell_type": "code",
   "execution_count": null,
   "metadata": {},
   "outputs": [],
   "source": [
    "head_building_series = ['building_series_id', 'total_area', 'rooms']\n",
    "data_building_series= pd.DataFrame(data = data, columns = (head_building_series))\n",
    "print(data_building_series.head(5))"
   ]
  },
  {
   "cell_type": "code",
   "execution_count": null,
   "metadata": {},
   "outputs": [],
   "source": [
    "data_building_series = data_building_series.dropna()\n",
    "print(data_building_series.head())"
   ]
  },
  {
   "cell_type": "code",
   "execution_count": null,
   "metadata": {},
   "outputs": [],
   "source": [
    "data_building_series['building_series_id'] = data_building_series['building_series_id'].str.lower()\n",
    "data_building_series.sort_values(by='building_series_id', inplace=True)\n",
    "print(data_building_series['building_series_id'].unique())"
   ]
  },
  {
   "cell_type": "code",
   "execution_count": null,
   "metadata": {},
   "outputs": [],
   "source": [
    "def bldng_srs_id_dplct (building_series_id):\n",
    "        if building_series_id == \"121 (гатчинская)\" or building_series_id == \"121 гатчинская\" or building_series_id == \"121(гатчинская)\":\n",
    "            return \"121гатчинская\"\n",
    "        elif building_series_id == 'индивид.' or building_series_id == 'индивидуальный проект': \n",
    "            return 'индивидуальный'\n",
    "        elif building_series_id == 'кирп.монолит':\n",
    "            return 'кирпичный монолит'\n",
    "        elif building_series_id == 'старый фонд + капремонт':\n",
    "            return 'старый фонд с кр'\n",
    "        else:\n",
    "            return building_series_id\n",
    "                           \n",
    "data_building_series['building_series_id'] = data_building_series['building_series_id'].str.replace(\"серия\", '')\n",
    "data_building_series_tmp = pd.to_numeric(data_building_series['building_series_id'], errors='coerce') \n",
    "data_building_series_tmp = data_building_series_tmp.fillna(-1)\n",
    "data_building_series_tmp = data_building_series_tmp.astype(int)\n",
    "data_building_series_tmp.loc[data_building_series_tmp == -1] = data_building_series['building_series_id']\n",
    "data_building_series['building_series_id'] = data_building_series_tmp\n",
    "data_building_series['building_series_id'] = data_building_series.apply(lambda x: bldng_srs_id_dplct(x['building_series_id']), axis = 1)\n",
    "data_building_series['building_series_id'].unique()\n"
   ]
  },
  {
   "cell_type": "code",
   "execution_count": null,
   "metadata": {},
   "outputs": [],
   "source": [
    "data_pivot_building_series_pt = data_building_series.pivot_table(index=['building_series_id', 'rooms'], values='total_area', aggfunc = ['median', 'count'])\n",
    "\n",
    "print(data_pivot_building_series_pt.loc[['1 лг - 600.11']])\n",
    "#print(data_pivot_building_series_pt.loc[['600.11']])\n",
    "print(data_pivot_building_series_pt.loc[['1-лг-600-i']])"
   ]
  },
  {
   "cell_type": "code",
   "execution_count": null,
   "metadata": {},
   "outputs": [],
   "source": [
    "print(data_pivot_building_series_pt.loc[['1-528 кп - 2']])\n",
    "print(data_pivot_building_series_pt.loc[['1-528-кп-97']])"
   ]
  },
  {
   "cell_type": "code",
   "execution_count": null,
   "metadata": {},
   "outputs": [],
   "source": [
    "print(data_pivot_building_series_pt.loc[[121]])\n",
    "print(data_pivot_building_series_pt.loc[['121гатчинская']])"
   ]
  },
  {
   "cell_type": "code",
   "execution_count": null,
   "metadata": {},
   "outputs": [],
   "source": [
    "print(data_pivot_building_series_pt.loc[['1лг-6066м']])\n",
    "print(data_pivot_building_series_pt.loc[[606]])\n",
    "data_building_series.replace('1лг-6066м.', 606, inplace = True)"
   ]
  },
  {
   "cell_type": "code",
   "execution_count": null,
   "metadata": {},
   "outputs": [],
   "source": [
    "print(data_pivot_building_series_pt.loc[[504]])\n",
    "print(data_pivot_building_series_pt.loc[['504д']])    "
   ]
  },
  {
   "cell_type": "code",
   "execution_count": null,
   "metadata": {},
   "outputs": [],
   "source": [
    "data_pivot_building_series1 = (data_building_series\n",
    "                              .query('rooms == 1')\n",
    "                              .pivot_table(index='building_series_id', values='total_area', aggfunc = ['median', 'count'])                        \n",
    ")\n",
    "data_building_series1 = (data_building_series\n",
    "                        .query('rooms == 1')\n",
    ")\n",
    "data_pivot_building_series1.columns = ['total_area', 'count']\n",
    "dt_pvt_bldng1 = data_pivot_building_series1.query('count >= 5')\n",
    "dt_pvt_bldng1_change = data_pivot_building_series1.query('count < 5')"
   ]
  },
  {
   "cell_type": "code",
   "execution_count": null,
   "metadata": {},
   "outputs": [],
   "source": [
    "data_building_series1.head(10)"
   ]
  },
  {
   "cell_type": "code",
   "execution_count": null,
   "metadata": {},
   "outputs": [],
   "source": [
    "rooms1_stat = []\n",
    "rooms1_stat = dt_pvt_bldng1.index\n",
    "print(rooms1_stat)"
   ]
  },
  {
   "cell_type": "code",
   "execution_count": null,
   "metadata": {},
   "outputs": [],
   "source": [
    "data_building_series1_select = data_building_series1.query('building_series_id in @rooms1_stat')\n",
    "print(data_building_series1_select['building_series_id'].unique())"
   ]
  },
  {
   "cell_type": "code",
   "execution_count": null,
   "metadata": {},
   "outputs": [],
   "source": [
    "data_building_series1_select_pvt = data_building_series1_select.pivot_table(index = 'building_series_id', values = 'total_area', aggfunc = ['median', 'describe'])\n",
    "data_building_series1_select_pvt.set_axis(['median', '25%', '50%', '75%', 'count', 'max', 'mean', 'min', 'std'], axis = 'columns', inplace = True)\n",
    "data_building_series1_select_pvt"
   ]
  },
  {
   "cell_type": "code",
   "execution_count": null,
   "metadata": {},
   "outputs": [],
   "source": [
    "data_building_series1_select_pvt['low_b'] =  data_building_series1_select_pvt['25%'] - 1.5 * (data_building_series1_select_pvt['75%'] - data_building_series1_select_pvt['25%'])\n",
    "data_building_series1_select_pvt['high_b'] =  data_building_series1_select_pvt['75%'] + 1.5 * (data_building_series1_select_pvt['75%'] - data_building_series1_select_pvt['25%'])\n",
    "data_building_series1_select_pvt"
   ]
  },
  {
   "cell_type": "code",
   "execution_count": null,
   "metadata": {},
   "outputs": [],
   "source": [
    "data_pivot_building_series2 = (data_building_series\n",
    "                              .query('rooms == 2')\n",
    "                              .pivot_table(index='building_series_id', values='total_area', aggfunc = ['median', 'count'])                        \n",
    ")\n",
    "data_building_series2 = (data_building_series\n",
    "                        .query('rooms == 2')\n",
    ")\n",
    "data_pivot_building_series2.columns = ['total_area', 'count']\n",
    "data_pivot_building_series2\n",
    "dt_pvt_bldng2 = data_pivot_building_series2.query('count >= 5')\n",
    "dt_pvt_bldng2"
   ]
  },
  {
   "cell_type": "code",
   "execution_count": null,
   "metadata": {},
   "outputs": [],
   "source": [
    "def create_building_id_table (data_building_series_r_select, rooms):\n",
    "    data_building_series_r_select = data_building_series_r_select.query('building_series_id in @rooms')        \n",
    "    data_building_series_r_select_pvt = data_building_series_r_select.pivot_table(index = 'building_series_id', values = 'total_area', aggfunc = ['median', 'describe'])\n",
    "    data_building_series_r_select_pvt.set_axis(['median', '25%', '50%', '75%', 'count', 'max', 'mean', 'min', 'std'], axis = 'columns', inplace = True)\n",
    "    data_building_series_r_select_pvt['low_b'] =  data_building_series_r_select_pvt['25%'] - 1.5 * (data_building_series_r_select_pvt['75%'] - data_building_series_r_select_pvt['25%'])\n",
    "    data_building_series_r_select_pvt['high_b'] =  data_building_series_r_select_pvt['75%'] + 1.5 * (data_building_series_r_select_pvt['75%'] - data_building_series_r_select_pvt['25%'])\n",
    "    return data_building_series_r_select_pvt\n",
    "    \n",
    "rooms2_stat = []\n",
    "rooms2_stat = dt_pvt_bldng2.index\n",
    "data_building_series2_select_pvt = create_building_id_table(data_building_series2, rooms2_stat)\n",
    "data_building_series2_select_pvt"
   ]
  },
  {
   "cell_type": "code",
   "execution_count": null,
   "metadata": {},
   "outputs": [],
   "source": [
    "data_pivot_building_series3 = (data_building_series\n",
    "                              .query('rooms == 3')\n",
    "                              .pivot_table(index='building_series_id', values='total_area', aggfunc = ['median', 'count'])                        \n",
    ")\n",
    "data_building_series3 = (data_building_series\n",
    "                        .query('rooms == 3')\n",
    ")\n",
    "data_pivot_building_series3.columns = ['total_area', 'count']\n",
    "data_pivot_building_series3\n",
    "dt_pvt_bldng3 = data_pivot_building_series3.query('count >= 5')\n",
    "dt_pvt_bldng3"
   ]
  },
  {
   "cell_type": "code",
   "execution_count": null,
   "metadata": {},
   "outputs": [],
   "source": [
    "rooms3_stat = []\n",
    "rooms3_stat = dt_pvt_bldng3.index\n",
    "data_building_series3_select_pvt = create_building_id_table(data_building_series3, rooms3_stat)\n",
    "data_building_series3_select_pvt"
   ]
  },
  {
   "cell_type": "code",
   "execution_count": null,
   "metadata": {},
   "outputs": [],
   "source": [
    "data_pivot_building_series4 = (data_building_series\n",
    "                              .query('rooms == 4')\n",
    "                              .pivot_table(index='building_series_id', values='total_area', aggfunc = ['median', 'count'])                        \n",
    ")\n",
    "data_building_series4 = (data_building_series\n",
    "                        .query('rooms == 4')\n",
    ")\n",
    "data_pivot_building_series4.columns = ['total_area', 'count']\n",
    "data_pivot_building_series4\n",
    "dt_pvt_bldng4 = data_pivot_building_series4.query('count >= 5')\n",
    "dt_pvt_bldng4"
   ]
  },
  {
   "cell_type": "code",
   "execution_count": null,
   "metadata": {},
   "outputs": [],
   "source": [
    "data_pivot_building_series4h = (data_building_series\n",
    "                              .query('rooms > 4')\n",
    "                              .pivot_table(index='building_series_id', values='total_area', aggfunc = ['median', 'count'])                        \n",
    ")\n",
    "data_building_series4h = (data_building_series\n",
    "                        .query('rooms > 4')\n",
    ")\n",
    "data_pivot_building_series4h.columns = ['total_area', 'count']\n",
    "data_pivot_building_series4h\n",
    "dt_pvt_bldng4h = data_pivot_building_series4h.query('count >= 5')\n",
    "dt_pvt_bldng4h"
   ]
  },
  {
   "cell_type": "code",
   "execution_count": null,
   "metadata": {},
   "outputs": [],
   "source": [
    "data_pivot_building_series4h"
   ]
  },
  {
   "cell_type": "code",
   "execution_count": null,
   "metadata": {},
   "outputs": [],
   "source": [
    "data_pivot_building_series4 = (data_building_series\n",
    "                              .query('rooms >= 4')\n",
    "                              .pivot_table(index='building_series_id', values='total_area', aggfunc = ['median', 'count'])                        \n",
    ")\n",
    "data_building_series4 = (data_building_series\n",
    "                        .query('rooms >= 4')\n",
    ")\n",
    "data_pivot_building_series4.columns = ['total_area', 'count']\n",
    "data_pivot_building_series4\n",
    "dt_pvt_bldng4 = data_pivot_building_series4.query('count >= 5')\n",
    "dt_pvt_bldng4"
   ]
  },
  {
   "cell_type": "code",
   "execution_count": null,
   "metadata": {},
   "outputs": [],
   "source": [
    "rooms4_stat = []\n",
    "rooms4_stat = dt_pvt_bldng4.index\n",
    "data_building_series4_select_pvt = create_building_id_table(data_building_series4, rooms4_stat)\n",
    "data_building_series4_select_pvt"
   ]
  },
  {
   "cell_type": "code",
   "execution_count": null,
   "metadata": {},
   "outputs": [],
   "source": [
    "dt_pvt_bldng1_index_set = set(dt_pvt_bldng1.index)\n",
    "dt_pvt_bldng2_index_set = set(dt_pvt_bldng2.index)\n",
    "dt_pvt_bldng3_index_set = set(dt_pvt_bldng3.index)\n",
    "dt_pvt_bldng4_index_set = set(dt_pvt_bldng4.index)\n",
    "dt_pvt_bldng_index_set = dt_pvt_bldng1_index_set.union(dt_pvt_bldng2_index_set, dt_pvt_bldng3_index_set, dt_pvt_bldng4_index_set)\n",
    "print(dt_pvt_bldng_index_set)"
   ]
  },
  {
   "cell_type": "code",
   "execution_count": null,
   "metadata": {},
   "outputs": [],
   "source": [
    "data_building_series['building_series_id'] = data_building_series['building_series_id'].where(data_building_series['building_series_id'].isin(dt_pvt_bldng_index_set), 'другие')\n",
    "#data_building_series.groupby('building_series_id').count()\n",
    "data_building_series.drop(['total_area', 'rooms'], axis='columns', inplace=True)"
   ]
  },
  {
   "cell_type": "code",
   "execution_count": null,
   "metadata": {},
   "outputs": [],
   "source": [
    "data = data.merge(data_building_series, left_index=True, right_index=True, how='left')\n",
    "data['building_series_id_y'] = data['building_series_id_y'].fillna('замена')\n",
    "data.drop(['building_series_id_x'], axis='columns', inplace=True)\n",
    "data.groupby('building_series_id_y').count()"
   ]
  },
  {
   "cell_type": "code",
   "execution_count": null,
   "metadata": {},
   "outputs": [],
   "source": [
    "data['rooms'].unique()"
   ]
  },
  {
   "cell_type": "code",
   "execution_count": null,
   "metadata": {},
   "outputs": [],
   "source": [
    "def change_building_series_id (building_series_id_y, total_area, rooms):\n",
    "    if building_series_id_y == 'замена':\n",
    "        if rooms == 1:\n",
    "            if 46 >= total_area >= 30:\n",
    "                return '1564812'\n",
    "            else:\n",
    "                return 'другие'\n",
    "        elif rooms == 2:\n",
    "            if 73 >= total_area >= 43:\n",
    "                return '1564812'\n",
    "            else:\n",
    "                return 'другие'\n",
    "        elif rooms == 3:\n",
    "            if 60 >= total_area >= 103:\n",
    "                return '1564812'\n",
    "            elif 53.5 >= total_area > 60:\n",
    "                return '1564801'\n",
    "            else:\n",
    "                return 'другие'\n",
    "        elif rooms >= 4:\n",
    "            if 79.5 >= total_area >= 140:\n",
    "                return '1564812'\n",
    "            elif 68.5 >= total_area > 79.5:\n",
    "                return '1564801'\n",
    "            elif 46.5 >= total_area >= 51.5:\n",
    "                return '1568734'        \n",
    "            else:\n",
    "                return 'другие'\n",
    "        elif rooms == 0:\n",
    "            return 'другие'\n",
    "    else:\n",
    "        return building_series_id_y\n",
    "        \n",
    "\n",
    "            \n",
    "data['building_series_id_y'] = data.apply(lambda x: change_building_series_id(x['building_series_id_y'], x['total_area'], x['rooms']), axis = 1)\n",
    "data.groupby('building_series_id_y').count()"
   ]
  },
  {
   "cell_type": "code",
   "execution_count": null,
   "metadata": {},
   "outputs": [],
   "source": [
    "data['ceiling_height'] = round(data['ceiling_height'], 1)"
   ]
  },
  {
   "cell_type": "code",
   "execution_count": null,
   "metadata": {},
   "outputs": [],
   "source": [
    "print(data['ceiling_height'].unique())"
   ]
  },
  {
   "cell_type": "code",
   "execution_count": null,
   "metadata": {},
   "outputs": [],
   "source": [
    "head_ceiling_height = ['ceiling_height', 'locality_name', 'price_bym']\n",
    "data_ceiling_height= pd.DataFrame(data = data, columns = (head_ceiling_height))\n",
    "print(data_ceiling_height.head(5))"
   ]
  },
  {
   "cell_type": "code",
   "execution_count": null,
   "metadata": {},
   "outputs": [],
   "source": [
    "data_ceiling_height.dropna(inplace=True)\n",
    "data_ceiling_height = data_ceiling_height.loc[data_ceiling_height.loc[:, 'locality_name'] == 'Санкт-Петербург']\n",
    "data_ceiling_height.sort_values(by='ceiling_height', inplace=True)\n",
    "data_ceiling_height.head(10)"
   ]
  },
  {
   "cell_type": "code",
   "execution_count": null,
   "metadata": {},
   "outputs": [],
   "source": [
    "data_ceiling_height['ceiling_height'] = pd.to_numeric(data_ceiling_height['ceiling_height'])"
   ]
  },
  {
   "cell_type": "code",
   "execution_count": null,
   "metadata": {},
   "outputs": [],
   "source": [
    "data_ceiling_height = data_ceiling_height.query('ceiling_height not in [1, 14, 100, 1.8]')\n",
    "def ceiling_height_chng (ceiling_height):\n",
    "    if 100 == ceiling_height:\n",
    "        return 0\n",
    "    elif ceiling_height < 2:\n",
    "        return 0\n",
    "    elif 10 < ceiling_height <= 19:\n",
    "        return 0\n",
    "    elif 20 <= ceiling_height <= 32:\n",
    "        return ceiling_height / 10\n",
    "    else:\n",
    "        return ceiling_height\n",
    "\n",
    "    \n",
    "data_ceiling_height['ceiling_height'] = data_ceiling_height.apply(lambda x: ceiling_height_chng(x['ceiling_height']), axis = 1)"
   ]
  },
  {
   "cell_type": "code",
   "execution_count": null,
   "metadata": {},
   "outputs": [],
   "source": [
    "data_ceiling_height.plot(x='ceiling_height', y='price_bym', kind='scatter', alpha=0.09)"
   ]
  },
  {
   "cell_type": "code",
   "execution_count": null,
   "metadata": {},
   "outputs": [],
   "source": [
    "data_ceiling_height = data_ceiling_height.query('ceiling_height < 5')\n",
    "data_ceiling_height = data_ceiling_height.query('price_bym < 700000')\n",
    "ceiling_height_mean = data_ceiling_height['ceiling_height'].mean()\n",
    "data_ceiling_height.plot(x='ceiling_height', y='price_bym', kind='scatter', alpha=0.09)\n",
    "print(data_ceiling_height['ceiling_height'].corr(data_ceiling_height['price_bym']))"
   ]
  },
  {
   "cell_type": "code",
   "execution_count": null,
   "metadata": {},
   "outputs": [],
   "source": [
    "data['ceiling_height'] = data_ceiling_height.apply(lambda x: ceiling_height_chng(x['ceiling_height']), axis = 1)\n",
    "data['ceiling_height'] = data['ceiling_height'].fillna(0)\n",
    "data['ceiling_height'].astype('int')\n",
    "data['ceiling_height'] = round(data['ceiling_height'], 1)\n",
    "print(data['ceiling_height'].unique())"
   ]
  },
  {
   "cell_type": "code",
   "execution_count": null,
   "metadata": {},
   "outputs": [],
   "source": [
    "data_tmp = data.query('ceiling_height != 0')"
   ]
  },
  {
   "cell_type": "code",
   "execution_count": null,
   "metadata": {},
   "outputs": [],
   "source": [
    "ceiling_height_by_local_dict = data_tmp.groupby('building_series_id_y')['ceiling_height'].agg('mean').to_dict()\n",
    "data['ceiling_height_mean'] = data['building_series_id_y'].map(ceiling_height_by_local_dict)\n",
    "data.loc[data['ceiling_height'] == 0, 'ceiling_height'] = data.loc[data['ceiling_height'] == 0, 'ceiling_height_mean']\n",
    "data[['ceiling_height', 'ceiling_height_mean', 'building_series_id_y']].head(10)\n"
   ]
  },
  {
   "cell_type": "code",
   "execution_count": null,
   "metadata": {},
   "outputs": [],
   "source": [
    "data.drop(['ceiling_height_mean'], axis='columns', inplace=True)\n",
    "data.plot(x='ceiling_height', y='price_bym', kind='scatter', alpha=0.09)\n",
    "print(data['ceiling_height'].corr(data['price_bym']))"
   ]
  },
  {
   "cell_type": "code",
   "execution_count": null,
   "metadata": {},
   "outputs": [],
   "source": [
    "data['living_area'] = data['living_area'].fillna(0)\n",
    "data['living_area'].describe()\n",
    "data['living_to_total_area'] = data['living_area'] / data['total_area']\n",
    "data['living_to_total_area'].describe()"
   ]
  },
  {
   "cell_type": "code",
   "execution_count": null,
   "metadata": {},
   "outputs": [],
   "source": [
    "living_to_total_area_by_bldngid = data.groupby('building_series_id_y')['living_to_total_area'].agg('mean').to_dict()\n",
    "data['living_to_total_area_mean'] = data['building_series_id_y'].map(living_to_total_area_by_bldngid)\n",
    "data['living_to_total_area'] = data['living_to_total_area'].where(data['living_to_total_area'] > 0.29, data['living_to_total_area_mean'])\n",
    "data['living_to_total_area'] = data['living_to_total_area'].where(data['living_to_total_area'] < 0.81, data['living_to_total_area_mean'])\n",
    "data[['living_to_total_area', 'living_to_total_area_mean', 'building_series_id_y']].head(10)"
   ]
  },
  {
   "cell_type": "code",
   "execution_count": null,
   "metadata": {},
   "outputs": [],
   "source": [
    "data.drop(['living_to_total_area_mean'], axis='columns', inplace=True)\n",
    "data['rooms'].unique()"
   ]
  },
  {
   "cell_type": "code",
   "execution_count": null,
   "metadata": {},
   "outputs": [],
   "source": [
    "print(data['is_apartment'].unique())\n",
    "print(data['is_apartment'].value_counts())"
   ]
  },
  {
   "cell_type": "code",
   "execution_count": null,
   "metadata": {},
   "outputs": [],
   "source": [
    "data['kitchen_area'].fillna(0, inplace = True)\n",
    "data['kitchen_area'].astype('int')\n",
    "data['kitchen_area'] = round(data['kitchen_area'], 0)\n",
    "print(data['kitchen_area'].unique())"
   ]
  },
  {
   "cell_type": "code",
   "execution_count": null,
   "metadata": {},
   "outputs": [],
   "source": [
    "print(data['kitchen_area'].hist())"
   ]
  },
  {
   "cell_type": "code",
   "execution_count": null,
   "metadata": {},
   "outputs": [],
   "source": [
    "print(data['kitchen_area'].hist(range=(0, 20)))"
   ]
  },
  {
   "cell_type": "code",
   "execution_count": null,
   "metadata": {},
   "outputs": [],
   "source": [
    "head_kitchen_area = ['kitchen_area', 'locality_name', 'price_bym']\n",
    "data_kitchen_area = pd.DataFrame(data = data, columns = (head_kitchen_area))\n",
    "print(data_kitchen_area.head(5))"
   ]
  },
  {
   "cell_type": "code",
   "execution_count": null,
   "metadata": {},
   "outputs": [],
   "source": [
    "data_kitchen_area = (data_kitchen_area\n",
    "                    .query('kitchen_area >= 5 and kitchen_area <= 20 and locality_name == \"Санкт-Петербург\"')\n",
    ")\n",
    "data_kitchen_area.groupby(by='kitchen_area').count()"
   ]
  },
  {
   "cell_type": "code",
   "execution_count": null,
   "metadata": {},
   "outputs": [],
   "source": [
    "data_kitchen_area.plot(x='kitchen_area', y='price_bym', kind='scatter', alpha=0.09)\n",
    "print(data_kitchen_area['kitchen_area'].corr(data['price_bym']))"
   ]
  },
  {
   "cell_type": "code",
   "execution_count": null,
   "metadata": {},
   "outputs": [],
   "source": [
    "data_kitchen_area = data_kitchen_area.query('price_bym <= 200000')\n",
    "data_kitchen_area.plot(x='kitchen_area', y='price_bym', kind='scatter', alpha=0.09)\n",
    "print(data['kitchen_area'].corr(data['price_bym']))"
   ]
  },
  {
   "cell_type": "code",
   "execution_count": null,
   "metadata": {},
   "outputs": [],
   "source": [
    "data_tmp = data.query('kitchen_area > 5')"
   ]
  },
  {
   "cell_type": "code",
   "execution_count": null,
   "metadata": {},
   "outputs": [],
   "source": [
    "kitchen_area_by_local_dict = data_tmp.groupby('building_series_id_y')['kitchen_area'].agg('mean').to_dict()\n",
    "data['kitchen_area_mean'] = data['building_series_id_y'].map(ceiling_height_by_local_dict)\n",
    "data.loc[data['kitchen_area'] == 0, 'kitchen_area'] = data.loc[data['kitchen_area'] == 0, 'kitchen_area_mean']\n",
    "data[['kitchen_area', 'kitchen_area_mean', 'building_series_id_y']].head(10)"
   ]
  },
  {
   "cell_type": "code",
   "execution_count": null,
   "metadata": {},
   "outputs": [],
   "source": [
    "data.drop(['kitchen_area_mean'], axis='columns', inplace=True)\n",
    "data['kitchen_to_total'] = data['kitchen_area'] / data['total_area']"
   ]
  },
  {
   "cell_type": "code",
   "execution_count": null,
   "metadata": {},
   "outputs": [],
   "source": [
    "print(data['balcony'].unique())"
   ]
  },
  {
   "cell_type": "code",
   "execution_count": null,
   "metadata": {},
   "outputs": [],
   "source": [
    "#data.groupby('balcony').count()\n",
    "data_tmp = data.query('balcony == \"nan\"')\n",
    "data_tmp.groupby('building_series_id_y').agg({'price_bym':['count']})"
   ]
  },
  {
   "cell_type": "code",
   "execution_count": null,
   "metadata": {},
   "outputs": [],
   "source": [
    "data['balcony'] = data['balcony'].fillna(-1)"
   ]
  },
  {
   "cell_type": "code",
   "execution_count": null,
   "metadata": {},
   "outputs": [],
   "source": [
    "data.plot(x='balcony', y='price_bym', kind='scatter', alpha=0.09)\n",
    "print(data['balcony'].corr(data['price_bym']))"
   ]
  },
  {
   "cell_type": "code",
   "execution_count": null,
   "metadata": {},
   "outputs": [],
   "source": [
    "print(data['airports_nearest'].describe())"
   ]
  },
  {
   "cell_type": "code",
   "execution_count": null,
   "metadata": {},
   "outputs": [],
   "source": [
    "data['floors_total'] = data['floors_total'].fillna(-1)\n",
    "data['floors_total'].unique()"
   ]
  },
  {
   "cell_type": "code",
   "execution_count": null,
   "metadata": {},
   "outputs": [],
   "source": [
    "def floor_type_ins (floor, floors_total):\n",
    "    if floor == 1:\n",
    "        return 'first'\n",
    "    elif floor == floors_total:\n",
    "        return 'last'\n",
    "    else:\n",
    "        return 'другой'\n",
    "\n",
    "    \n",
    "data['floor_type'] = data.apply(lambda x: floor_type_ins(x['floor'], x['floors_total']), axis = 1)\n",
    "data.groupby('floor_type').count()"
   ]
  },
  {
   "cell_type": "code",
   "execution_count": null,
   "metadata": {},
   "outputs": [],
   "source": [
    "data['time_publication'] = pd.to_datetime(data['first_day_exposition'], format='%Y-%m-%d')\n",
    "data['month_expstn'] = pd.DatetimeIndex(data['first_day_exposition']).month\n",
    "data['day_expstn'] = pd.DatetimeIndex(data['first_day_exposition']).weekday\n",
    "data['year_expstn'] = pd.DatetimeIndex(data['first_day_exposition']).year\n",
    "data['day_expstn'].unique()"
   ]
  },
  {
   "cell_type": "code",
   "execution_count": null,
   "metadata": {},
   "outputs": [],
   "source": [
    "dataspb = data.query('locality_name == \"Санкт-Петербург\" and cityCenters_nearest > 0')\n",
    "dataspb.plot(y='year_expstn', kind='hist', grid=True, legend=True)\n",
    "dataspb2017 = dataspb.query('year_expstn == 2017')\n",
    "dataspb2018 = dataspb.query('year_expstn == 2018')"
   ]
  },
  {
   "cell_type": "code",
   "execution_count": null,
   "metadata": {},
   "outputs": [],
   "source": [
    "dataspb2018.describe()"
   ]
  },
  {
   "cell_type": "code",
   "execution_count": null,
   "metadata": {},
   "outputs": [],
   "source": [
    "dataspb2017.describe()"
   ]
  },
  {
   "cell_type": "code",
   "execution_count": null,
   "metadata": {},
   "outputs": [],
   "source": [
    "data['airports_nearest'].hist()"
   ]
  },
  {
   "cell_type": "code",
   "execution_count": null,
   "metadata": {},
   "outputs": [],
   "source": [
    "data_airports_nearest = data.copy()\n",
    "data_airports_nearest.dropna(subset = ['airports_nearest'], inplace=True)\n",
    "data.info()"
   ]
  },
  {
   "cell_type": "code",
   "execution_count": null,
   "metadata": {},
   "outputs": [],
   "source": [
    "data_airports_nearest.plot(x='airports_nearest', y='price_bym', kind='scatter', alpha=0.09)\n",
    "print(data['airports_nearest'].corr(data['price_bym']))"
   ]
  },
  {
   "cell_type": "code",
   "execution_count": null,
   "metadata": {},
   "outputs": [],
   "source": [
    "print(data['cityCenters_nearest'].describe())"
   ]
  },
  {
   "cell_type": "code",
   "execution_count": null,
   "metadata": {},
   "outputs": [],
   "source": [
    "dataspb = data.query('locality_name == \"Санкт-Петербург\" and cityCenters_nearest > 0')\n",
    "dataspb.groupby('cityCenters_nearest')['locality_name'].count()\n",
    "dataspb.info()"
   ]
  },
  {
   "cell_type": "code",
   "execution_count": null,
   "metadata": {},
   "outputs": [],
   "source": [
    "dataspb = data.query('locality_name == \"Санкт-Петербург\" and cityCenters_nearest > 0')\n",
    "dataspb.groupby('cityCenters_nearest')['locality_name'].count()\n",
    "print(dataspb['cityCenters_nearest'].hist(bins=28, range=(0, 28000)))\n",
    "print(dataspb['cityCenters_nearest'].hist(range=(3000, 8000)))\n",
    "print(dataspb['cityCenters_nearest'].hist(range=(11000, 16000)))"
   ]
  },
  {
   "cell_type": "code",
   "execution_count": null,
   "metadata": {},
   "outputs": [],
   "source": [
    "dataspb.plot(x='cityCenters_nearest', y='price_bym', kind='scatter', alpha=0.09)\n",
    "print(dataspb['cityCenters_nearest'].corr(data['price_bym']))"
   ]
  },
  {
   "cell_type": "code",
   "execution_count": null,
   "metadata": {},
   "outputs": [],
   "source": [
    "dataspb_1564812 = dataspb.query('building_series_id_y == \"1564812\" and price_bym <= 500000')    \n",
    "dataspb_1564812.plot(x='cityCenters_nearest', y='price_bym', kind='scatter', alpha=0.09)\n",
    "print(dataspb_1564812['cityCenters_nearest'].corr(data['price_bym']))"
   ]
  },
  {
   "cell_type": "code",
   "execution_count": null,
   "metadata": {},
   "outputs": [],
   "source": [
    "print(data['parks_around3000'].unique())\n",
    "data['parks_around3000'].hist()"
   ]
  },
  {
   "cell_type": "code",
   "execution_count": null,
   "metadata": {},
   "outputs": [],
   "source": [
    "dataspb.plot(x='parks_around3000', y='price_bym', kind='scatter', alpha=0.09)\n",
    "print(dataspb['parks_around3000'].corr(data['price_bym']))"
   ]
  },
  {
   "cell_type": "code",
   "execution_count": null,
   "metadata": {},
   "outputs": [],
   "source": [
    "print(data['parks_nearest'].describe())\n",
    "data['parks_nearest'].hist()"
   ]
  },
  {
   "cell_type": "code",
   "execution_count": null,
   "metadata": {},
   "outputs": [],
   "source": [
    "dataspb.plot(x='parks_nearest', y='price_bym', kind='scatter', alpha=0.09)\n",
    "print(dataspb['parks_nearest'].corr(data['price_bym']))"
   ]
  },
  {
   "cell_type": "code",
   "execution_count": null,
   "metadata": {},
   "outputs": [],
   "source": [
    "print(data['ponds_nearest'].describe())\n",
    "data['ponds_nearest'].hist()"
   ]
  },
  {
   "cell_type": "code",
   "execution_count": null,
   "metadata": {},
   "outputs": [],
   "source": [
    "dataspb.plot(x='ponds_nearest', y='price_bym', kind='scatter', alpha=0.09)\n",
    "print(dataspb['ponds_nearest'].corr(data['price_bym']))"
   ]
  },
  {
   "cell_type": "code",
   "execution_count": null,
   "metadata": {},
   "outputs": [],
   "source": [
    "data['last_price'] = data['last_price'].astype('int')\n",
    "data['floors_total'] = data['floors_total'].astype('int')\n",
    "data['floor'] = data['floor'].astype('int')\n",
    "data['is_apartment'] = data['is_apartment'].astype('bool')\n",
    "data['balcony'] = data['balcony'].astype('int')\n",
    "data['price_bym'] = data['price_bym'].astype('int')"
   ]
  },
  {
   "cell_type": "code",
   "execution_count": null,
   "metadata": {},
   "outputs": [],
   "source": [
    "data['last_price'] = data['last_price'].astype('int')\n",
    "data['floors_total'] = data['floors_total'].astype('int')\n",
    "data['floor'] = data['floor'].astype('int')\n",
    "data['is_apartment'] = data['is_apartment'].astype('bool')\n",
    "data['balcony'] = data['balcony'].astype('int')\n",
    "data['price_bym'] = data['price_bym'].astype('int')"
   ]
  },
  {
   "cell_type": "code",
   "execution_count": null,
   "metadata": {},
   "outputs": [],
   "source": [
    "data['total_area'].plot(kind='hist', bins=30, grid=True, legend=True)"
   ]
  },
  {
   "cell_type": "code",
   "execution_count": null,
   "metadata": {},
   "outputs": [],
   "source": [
    "data['total_area'].plot(kind='hist', bins=30, grid=True, legend=True, range=(10, 200))"
   ]
  },
  {
   "cell_type": "code",
   "execution_count": null,
   "metadata": {},
   "outputs": [],
   "source": [
    "data['price_bym'].plot(kind='hist', bins=30, grid=True, legend=True)"
   ]
  },
  {
   "cell_type": "code",
   "execution_count": null,
   "metadata": {},
   "outputs": [],
   "source": [
    "data['price_bym'].hist(bins=30, range=(30, 280))"
   ]
  },
  {
   "cell_type": "code",
   "execution_count": null,
   "metadata": {},
   "outputs": [],
   "source": [
    "data_groupby_building_series_id = data.groupby('building_series_id_y').count()\n",
    "data_groupby_building_series_id.plot(kind='pie', y='total_area', legend=False)"
   ]
  },
  {
   "cell_type": "code",
   "execution_count": null,
   "metadata": {},
   "outputs": [],
   "source": [
    "data['days_exposition'].describe()"
   ]
  },
  {
   "cell_type": "code",
   "execution_count": null,
   "metadata": {},
   "outputs": [],
   "source": [
    "data_standart = data.query('total_area > 20 and total_area < 200 and price_bym > 30 and price_bym < 250 and ceiling_height < 5 and kitchen_area < 20')\n",
    "data_standart.info()"
   ]
  },
  {
   "cell_type": "code",
   "execution_count": null,
   "metadata": {},
   "outputs": [],
   "source": [
    "data_standart['price_bym'].hist()"
   ]
  },
  {
   "cell_type": "code",
   "execution_count": null,
   "metadata": {},
   "outputs": [],
   "source": [
    "data_standart1 = data_standart.query('building_series_id_y == \"1564812\" and locality_name == \"Санкт-Петербург\"')"
   ]
  },
  {
   "cell_type": "code",
   "execution_count": null,
   "metadata": {},
   "outputs": [],
   "source": [
    "data_standart1_first = data_standart1.loc[data_standart1.loc[:,'floor_type'] == 'first']\n",
    "data_standart1_last = data_standart1.loc[data_standart1.loc[:,'floor_type'] == 'last']\n",
    "data_standart1_other = data_standart1.loc[data_standart1.loc[:,'floor_type'] == 'другой']"
   ]
  },
  {
   "cell_type": "code",
   "execution_count": null,
   "metadata": {},
   "outputs": [],
   "source": [
    "data_standart1_first['price_bym'].describe()"
   ]
  },
  {
   "cell_type": "code",
   "execution_count": null,
   "metadata": {},
   "outputs": [],
   "source": [
    "data_standart1_last['price_bym'].describe()"
   ]
  },
  {
   "cell_type": "code",
   "execution_count": null,
   "metadata": {},
   "outputs": [],
   "source": [
    "data_standart1_other['price_bym'].describe()"
   ]
  },
  {
   "cell_type": "code",
   "execution_count": null,
   "metadata": {},
   "outputs": [],
   "source": [
    "head_table = ['rooms', 'ceiling_height', 'kitchen_area', 'cityCenters_nearest', 'living_to_total_area', 'kitchen_to_total', 'month_expstn', 'day_expstn', 'year_expstn']\n",
    "i = 0\n",
    "for i in range(len(head_table)):\n",
    "    print(head_table[i], data_standart1[head_table[i]].corr(data['price_bym']))\n",
    "    print(data_standart1.pivot_table(index = head_table[i], values='price_bym', aggfunc = 'describe'))\n",
    "    i += 1\n"
   ]
  },
  {
   "cell_type": "code",
   "execution_count": null,
   "metadata": {},
   "outputs": [],
   "source": [
    "i = 0\n",
    "for i in range(len(head_table)):\n",
    "    data_standart1.plot(x=head_table[i], y='price_bym', kind='scatter', alpha=0.09)\n",
    "    i += 1"
   ]
  },
  {
   "cell_type": "code",
   "execution_count": null,
   "metadata": {},
   "outputs": [],
   "source": [
    "print(\"Влияние на цену удалённости от центра города\", data_standart1['price_bym'].corr(data['cityCenters_nearest']))\n",
    "print(\"Влияние на цену высоты потолков\", data_standart1['price_bym'].corr(data['ceiling_height']))\n",
    "print(\"Влияние на цену площади кухни\", data_standart1['price_bym'].corr(data['kitchen_area']))"
   ]
  },
  {
   "cell_type": "code",
   "execution_count": null,
   "metadata": {},
   "outputs": [],
   "source": [
    "data_locality = data.pivot_table(index = 'locality_name', values='price_bym', aggfunc = ['median', 'count'])\n",
    "data_locality.columns = ['median', 'count']\n",
    "data_locality.sort_values(by='count', ascending=False, inplace=True)\n",
    "data_locality.drop(['Санкт-Петербург'], inplace=True)\n",
    "data_locality.head(10)"
   ]
  },
  {
   "cell_type": "code",
   "execution_count": null,
   "metadata": {},
   "outputs": [],
   "source": [
    "#dataspb = dataspb.query('building_series_id_y == \"1564812\"')\n",
    "print(dataspb['cityCenters_nearest'].hist(bins=28, range=(0, 28000)))\n",
    "print(dataspb['cityCenters_nearest'].hist(range=(3000, 8000)))\n",
    "print(dataspb['cityCenters_nearest'].hist(range=(11000, 16000)))"
   ]
  },
  {
   "cell_type": "code",
   "execution_count": null,
   "metadata": {},
   "outputs": [],
   "source": [
    "dataspb_citycenter3_8 = dataspb.query('cityCenters_nearest > 3000 and cityCenters_nearest < 8000')\n",
    "dataspb_citycenter11_16 = dataspb.query('cityCenters_nearest > 11000 and cityCenters_nearest < 16000')\n",
    "dataspb_citycenter3_8['total_area'].hist(bins=25, range=(0, 250))\n",
    "dataspb_citycenter3_8['total_area'].hist(bins=25, range=(40, 100))"
   ]
  },
  {
   "cell_type": "code",
   "execution_count": null,
   "metadata": {},
   "outputs": [],
   "source": [
    "dataspb_citycenter11_16['total_area'].hist(bins=15, range=(0, 150))\n",
    "dataspb_citycenter11_16['total_area'].hist(bins=15, range=(30, 70))"
   ]
  },
  {
   "cell_type": "code",
   "execution_count": null,
   "metadata": {},
   "outputs": [],
   "source": [
    "dataspb_citycenter3_8_rooms = dataspb_citycenter3_8.pivot_table(index='rooms', values='price_bym', aggfunc = ['median', 'count'])\n",
    "dataspb_citycenter11_16_rooms = dataspb_citycenter11_16.pivot_table(index='rooms', values='price_bym', aggfunc = ['median', 'count'])\n",
    "dataspb_citycenter3_8_rooms"
   ]
  },
  {
   "cell_type": "code",
   "execution_count": null,
   "metadata": {},
   "outputs": [],
   "source": [
    "dataspb_citycenter11_16_rooms"
   ]
  },
  {
   "cell_type": "code",
   "execution_count": null,
   "metadata": {},
   "outputs": [],
   "source": [
    "dataspb_citycenter3_8_total_40_100 = dataspb_citycenter3_8.query('total_area > 40 and total_area < 100')\n",
    "dataspb_citycenter11_16_rms1_ttl_30_70 = dataspb_citycenter11_16.query('rooms == 1 and total_area > 30 and total_area < 70')\n",
    "dataspb_citycenter11_16_rms2_ttl_30_70 = dataspb_citycenter11_16.query('rooms == 2 and total_area > 30 and total_area < 70')\n",
    "dataspb_citycenter11_16_rms3_ttl_30_70 = dataspb_citycenter11_16.query('rooms == 3 and total_area > 30 and total_area < 70')"
   ]
  },
  {
   "cell_type": "code",
   "execution_count": null,
   "metadata": {},
   "outputs": [],
   "source": [
    "def del_columns (df_for_del):\n",
    "    pricebym = df_for_del.drop(['total_area', 'rooms', 'total_images', 'last_price', 'ceiling_height', 'floors_total', 'living_area', 'floor', 'studio', 'area', 'parks_nearest', 'ponds_around3000',  'ponds_nearest', 'days_exposition', 'living_to_total_area', 'kitchen_to_total', 'month_expstn', 'day_expstn', 'year_expstn', 'open_plan', 'kitchen_area', 'balcony', 'airports_nearest', 'cityCenters_nearest', 'parks_around3000'], axis='columns')\n",
    "    pricebym = pricebym.drop(['ceiling_height', 'parks_nearest', 'ponds_around3000',  'ponds_nearest', 'days_exposition', 'living_to_total_area', 'kitchen_to_total', 'month_expstn', 'day_expstn', 'year_expstn', 'open_plan', 'kitchen_area','cityCenters_nearest', 'parks_around3000'])\n",
    "    return pricebym\n",
    "\n",
    "data_price_by_m = dataspb_citycenter3_8_total_40_100.corr()\n",
    "data_price_by_m_only = del_columns(data_price_by_m) \n",
    "data_price_by_m_only"
   ]
  },
  {
   "cell_type": "code",
   "execution_count": null,
   "metadata": {},
   "outputs": [],
   "source": [
    "data_price_by_m1 = dataspb_citycenter11_16_rms1_ttl_30_70.corr()\n",
    "data_price_by_m1_only = del_columns(data_price_by_m1) \n",
    "data_price_by_m1_only"
   ]
  },
  {
   "cell_type": "code",
   "execution_count": null,
   "metadata": {},
   "outputs": [],
   "source": [
    "data_price_by_m2 = dataspb_citycenter11_16_rms2_ttl_30_70.corr()\n",
    "data_price_by_m2_only = del_columns(data_price_by_m2) \n",
    "data_price_by_m2_only"
   ]
  },
  {
   "cell_type": "code",
   "execution_count": null,
   "metadata": {},
   "outputs": [],
   "source": [
    "data_price_by_m3 = dataspb_citycenter11_16_rms3_ttl_30_70.corr()\n",
    "data_price_by_m3_only = del_columns(data_price_by_m3) \n",
    "data_price_by_m3_only\n",
    "\n"
   ]
  },
  {
   "cell_type": "code",
   "execution_count": null,
   "metadata": {},
   "outputs": [],
   "source": [
    "data_appatment = data.query('is_apartment == True')\n",
    "#data_appatment['cityCenters_nearest'].hist()\n",
    "data_appatment['cityCenters_nearest'].hist(range=(10500, 16500))"
   ]
  },
  {
   "cell_type": "code",
   "execution_count": null,
   "metadata": {},
   "outputs": [],
   "source": [
    "data_appatment['ceiling_height'].hist(range=(2.5, 2.8))"
   ]
  },
  {
   "cell_type": "code",
   "execution_count": null,
   "metadata": {},
   "outputs": [],
   "source": [
    "data_appatment['kitchen_area'].hist(range=(7, 11))"
   ]
  },
  {
   "cell_type": "code",
   "execution_count": null,
   "metadata": {},
   "outputs": [],
   "source": [
    "data_appatment = data_appatment.query('cityCenters_nearest >= 10500 and cityCenters_nearest <= 16500 and ceiling_height >= 2.5 and ceiling_height <= 2.8 and kitchen_area >= 7 and kitchen_area <= 11')\n",
    "print(\"Влияние на цену удалённости от центра города\", data_appatment['price_bym'].corr(data_appatment['cityCenters_nearest']))\n",
    "print(\"Влияние на цену высоты потолков\", data_appatment['price_bym'].corr(data_appatment['ceiling_height']))\n",
    "print(\"Влияние на цену площади кухни\", data_appatment['price_bym'].corr(data_appatment['kitchen_area']))"
   ]
  },
  {
   "cell_type": "code",
   "execution_count": null,
   "metadata": {},
   "outputs": [],
   "source": [
    "data_studio = data.query('studio == True')\n",
    "#data_appatment['cityCenters_nearest'].hist()\n",
    "data_studio['cityCenters_nearest'].hist(range=(12000, 18000))"
   ]
  },
  {
   "cell_type": "code",
   "execution_count": null,
   "metadata": {},
   "outputs": [],
   "source": [
    "data_studio['ceiling_height'].hist(range=(2.6, 2.8))"
   ]
  },
  {
   "cell_type": "code",
   "execution_count": null,
   "metadata": {},
   "outputs": [],
   "source": [
    "data_studio = data_studio.query('cityCenters_nearest >= 12000 and cityCenters_nearest <= 18000 and ceiling_height >= 2.6 and ceiling_height <= 2.8')\n",
    "print(\"Влияние на цену удалённости от центра города\", data_studio['price_bym'].corr(data_studio['cityCenters_nearest']))\n",
    "print(\"Влияние на цену высоты потолков\", data_studio['price_bym'].corr(data_studio['ceiling_height']))"
   ]
  },
  {
   "cell_type": "code",
   "execution_count": null,
   "metadata": {},
   "outputs": [],
   "source": [
    "data_openplan = data.query('open_plan == True')\n",
    "#data_openplan['cityCenters_nearest'].hist()\n",
    "data_openplan['cityCenters_nearest'].hist(range=(11500, 14000))"
   ]
  },
  {
   "cell_type": "code",
   "execution_count": null,
   "metadata": {},
   "outputs": [],
   "source": [
    "data_openplan['ceiling_height'].hist(range=(2.7, 2.8))"
   ]
  },
  {
   "cell_type": "code",
   "execution_count": null,
   "metadata": {},
   "outputs": [],
   "source": [
    "data_openplan['kitchen_area'].hist(range=(2.8, 2.8))"
   ]
  },
  {
   "cell_type": "code",
   "execution_count": null,
   "metadata": {},
   "outputs": [],
   "source": [
    "data_openplan = data_openplan.query('cityCenters_nearest >= 11500 and cityCenters_nearest <= 14000 and ceiling_height >= 2.7 and ceiling_height <= 2.8 and kitchen_area >= 2.7 and kitchen_area <= 2.9')\n",
    "print(\"Влияние на цену удалённости от центра города\", data_openplan['price_bym'].corr(data_openplan['cityCenters_nearest']))\n"
   ]
  }
 ],
 "metadata": {
  "kernelspec": {
   "display_name": "Python 3",
   "language": "python",
   "name": "python3"
  },
  "language_info": {
   "codemirror_mode": {
    "name": "ipython",
    "version": 3
   },
   "file_extension": ".py",
   "mimetype": "text/x-python",
   "name": "python",
   "nbconvert_exporter": "python",
   "pygments_lexer": "ipython3",
   "version": "3.7.6"
  }
 },
 "nbformat": 4,
 "nbformat_minor": 2
}
