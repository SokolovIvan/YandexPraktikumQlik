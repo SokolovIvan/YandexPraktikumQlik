{
 "cells": [
  {
   "cell_type": "markdown",
   "metadata": {},
   "source": [
    "#### Исходные данные\n",
    "\n",
    "Сервис по продаже автомобилей с пробегом «Не бит, не крашен» разрабатывает приложение для привлечения новых клиентов. В нём можно быстро узнать рыночную стоимость своего автомобиля. В вашем распоряжении исторические данные: технические характеристики, комплектации и цены автомобилей. Вам нужно построить модель для определения стоимости. \n",
    "\n",
    "Заказчику важны:\n",
    "\n",
    "- качество предсказания;\n",
    "- скорость предсказания;\n",
    "- время обучения.\n",
    "\n",
    "#### Что сделано\n",
    "\n",
    "Проведён анализ данных, сгруппированы объекты, выделены особые категории. Сформированы новые признаки. Подобрана оптимальная группировка. Удалены лишние признаки, ухудшающие качество работы модели. Подобраны параметры модели."
   ]
  },
  {
   "cell_type": "markdown",
   "metadata": {},
   "source": [
    "# 1. Подготовка данных"
   ]
  },
  {
   "cell_type": "code",
   "execution_count": null,
   "metadata": {},
   "outputs": [],
   "source": [
    "import pandas as pd\n",
    "import numpy as np\n",
    "import matplotlib.pyplot as plt\n",
    "import lightgbm as lgb\n",
    "import timeit\n",
    "from sklearn.model_selection import train_test_split\n",
    "from sklearn.metrics import mean_squared_error\n",
    "from sklearn import preprocessing\n",
    "df = pd.read_csv('/datasets/autos.csv')"
   ]
  },
  {
   "cell_type": "code",
   "execution_count": null,
   "metadata": {},
   "outputs": [],
   "source": [
    "df.info()"
   ]
  },
  {
   "cell_type": "code",
   "execution_count": null,
   "metadata": {},
   "outputs": [],
   "source": [
    "df.head()"
   ]
  },
  {
   "cell_type": "code",
   "execution_count": null,
   "metadata": {},
   "outputs": [],
   "source": [
    "df['Price'].hist(bins=20, range=(0, 20000))"
   ]
  },
  {
   "cell_type": "code",
   "execution_count": null,
   "metadata": {},
   "outputs": [],
   "source": [
    "df_notrepaired = df[df['NotRepaired'] == 'yes']\n",
    "df_repaired = df[df['NotRepaired'] == 'no']\n",
    "df_notrepaired_nan = df[df['NotRepaired'].isnull()]"
   ]
  },
  {
   "cell_type": "code",
   "execution_count": null,
   "metadata": {},
   "outputs": [],
   "source": [
    "df_notrepaired_nan['Price'].hist()"
   ]
  },
  {
   "cell_type": "code",
   "execution_count": null,
   "metadata": {},
   "outputs": [],
   "source": [
    "df_notrepaired['Price'].hist()"
   ]
  },
  {
   "cell_type": "code",
   "execution_count": null,
   "metadata": {},
   "outputs": [],
   "source": [
    "df_repaired['Price'].hist()"
   ]
  },
  {
   "cell_type": "code",
   "execution_count": null,
   "metadata": {},
   "outputs": [],
   "source": [
    "df_notrepaired_nan['Kilometer'].hist()"
   ]
  },
  {
   "cell_type": "code",
   "execution_count": null,
   "metadata": {},
   "outputs": [],
   "source": [
    "df['Kilometer'].hist()"
   ]
  },
  {
   "cell_type": "code",
   "execution_count": null,
   "metadata": {},
   "outputs": [],
   "source": [
    "df['RegistrationYear'].hist(bins=16, range=(1990, 2006))"
   ]
  },
  {
   "cell_type": "code",
   "execution_count": null,
   "metadata": {},
   "outputs": [],
   "source": [
    "df_notrepaired_nan['RegistrationYear'].hist(bins=16, range=(1990, 2006))"
   ]
  },
  {
   "cell_type": "code",
   "execution_count": null,
   "metadata": {},
   "outputs": [],
   "source": [
    "columns_name = df.columns"
   ]
  },
  {
   "cell_type": "code",
   "execution_count": null,
   "metadata": {},
   "outputs": [],
   "source": [
    "for col in columns_name:\n",
    "    print(col, df[col].unique())"
   ]
  },
  {
   "cell_type": "code",
   "execution_count": null,
   "metadata": {},
   "outputs": [],
   "source": [
    "df_gby_model = df.groupby('Model').count()"
   ]
  },
  {
   "cell_type": "code",
   "execution_count": null,
   "metadata": {},
   "outputs": [],
   "source": [
    "df_gby_model = df_gby_model['Price']"
   ]
  },
  {
   "cell_type": "code",
   "execution_count": null,
   "metadata": {},
   "outputs": [],
   "source": [
    "tmp = df_gby_model.sort_values()\n",
    "tmp"
   ]
  },
  {
   "cell_type": "code",
   "execution_count": null,
   "metadata": {},
   "outputs": [],
   "source": [
    "model_min = tmp[:7]\n",
    "model_min = model_min.index"
   ]
  },
  {
   "cell_type": "code",
   "execution_count": null,
   "metadata": {},
   "outputs": [],
   "source": [
    "model_min"
   ]
  },
  {
   "cell_type": "code",
   "execution_count": null,
   "metadata": {},
   "outputs": [],
   "source": [
    "tmp"
   ]
  },
  {
   "cell_type": "code",
   "execution_count": null,
   "metadata": {},
   "outputs": [],
   "source": [
    "df_golf = df[df['Model'] == 'golf']"
   ]
  },
  {
   "cell_type": "code",
   "execution_count": null,
   "metadata": {},
   "outputs": [],
   "source": [
    "df_golf['Price'].hist()"
   ]
  },
  {
   "cell_type": "code",
   "execution_count": null,
   "metadata": {},
   "outputs": [],
   "source": [
    "df_golf.plot(x='Price', y='RegistrationYear')"
   ]
  },
  {
   "cell_type": "code",
   "execution_count": null,
   "metadata": {},
   "outputs": [],
   "source": [
    "df_golf['RegistrationYear'].unique()"
   ]
  },
  {
   "cell_type": "code",
   "execution_count": null,
   "metadata": {},
   "outputs": [],
   "source": [
    "def make_year (year):\n",
    "    if year > 2016 or year < 1910:\n",
    "        return np.nan\n",
    "    elif year < 1996:\n",
    "        return 22\n",
    "    else:\n",
    "        return 2017 - year\n",
    "    \n",
    "df['year'] = df.apply(lambda x: make_year(x['RegistrationYear']), axis=1)"
   ]
  },
  {
   "cell_type": "code",
   "execution_count": null,
   "metadata": {},
   "outputs": [],
   "source": [
    "def make_model (model):\n",
    "    if model in model_min:\n",
    "        return np.nan\n",
    "    else:\n",
    "        return model\n",
    "    \n",
    "df['model'] = df.apply(lambda x: make_model(x['Model']), axis=1)"
   ]
  },
  {
   "cell_type": "code",
   "execution_count": null,
   "metadata": {},
   "outputs": [],
   "source": [
    "def make_power (power):\n",
    "    if power == 0 or power > 1000:\n",
    "        return np.nan\n",
    "    else:\n",
    "        return power\n",
    "\n",
    "df['power'] = df.apply(lambda x: make_power(x['Power']), axis=1)"
   ]
  },
  {
   "cell_type": "code",
   "execution_count": null,
   "metadata": {},
   "outputs": [],
   "source": [
    "df.drop(['Power', 'Model', 'RegistrationYear', 'NumberOfPictures'], axis=1, inplace=True)"
   ]
  },
  {
   "cell_type": "code",
   "execution_count": null,
   "metadata": {},
   "outputs": [],
   "source": [
    "tmp_list = [df, df_notrepaired, df_repaired, df_notrepaired_nan]\n",
    "for df_i in tmp_list:\n",
    "    df_i.plot(x='Price', y='Kilometer', kind='scatter', alpha=0.01)"
   ]
  },
  {
   "cell_type": "code",
   "execution_count": null,
   "metadata": {},
   "outputs": [],
   "source": [
    "df['NotRepaired'] = df['NotRepaired'].fillna('yes')"
   ]
  },
  {
   "cell_type": "code",
   "execution_count": null,
   "metadata": {},
   "outputs": [],
   "source": [
    "df_oldmobile = df[df['year'] == 22]\n",
    "df_oldmobile.info()"
   ]
  },
  {
   "cell_type": "code",
   "execution_count": null,
   "metadata": {},
   "outputs": [],
   "source": [
    "df_oldmobile['Price'].hist()"
   ]
  },
  {
   "cell_type": "code",
   "execution_count": null,
   "metadata": {},
   "outputs": [],
   "source": [
    "df.plot(x='Price', y='year', kind='scatter', alpha=0.01, grid=True)"
   ]
  },
  {
   "cell_type": "code",
   "execution_count": null,
   "metadata": {},
   "outputs": [],
   "source": [
    "def year_type (year):\n",
    "    if year > 0 and year < 5:\n",
    "        return 'new0_4'\n",
    "    elif year >= 5 and year <= 12:\n",
    "        return 'old5_12'\n",
    "    elif year > 12 and year <= 17:\n",
    "        return 'old13_17'\n",
    "    elif year > 18 and year < 22:\n",
    "        return 'old18_22'\n",
    "    else:\n",
    "        return year\n",
    "\n",
    "df['Type_year'] = df.apply(lambda x: year_type(x['year']), axis=1)"
   ]
  },
  {
   "cell_type": "code",
   "execution_count": null,
   "metadata": {},
   "outputs": [],
   "source": [
    "def year_type (mileage):\n",
    "    if mileage > 140000:\n",
    "        return 'yes'\n",
    "    else:\n",
    "        return 'no'\n",
    "\n",
    "df['mileage_140'] = df.apply(lambda x: year_type(x['Kilometer']), axis=1)"
   ]
  },
  {
   "cell_type": "code",
   "execution_count": null,
   "metadata": {},
   "outputs": [],
   "source": [
    "def group_by_brand (df, min_group, show_group=False):\n",
    "    df_noold = df[df['year'] != 22] #выписываем автомобили моложе 22 лет.\n",
    "    df_brend = df_noold.groupby(['Brand']).count()\n",
    "    top_brend = df_brend[df_brend['Price'] > min_group]\n",
    "    top_brend = top_brend['Price']\n",
    "    all_brend = df_noold['Brand'].unique()\n",
    "    list_top_brend = list(top_brend.index)\n",
    "    df_any_grouped = []\n",
    "    df_any_grouped.append(df_oldmobile)\n",
    "    for brend in list_top_brend:\n",
    "        df_tmp = df_noold[df_noold['Brand'] == brend]\n",
    "        df_any_grouped.append(df_tmp)\n",
    "        if df_tmp.shape[0] < min_group * 4 and show_group==True:\n",
    "            print(brend)\n",
    "            plt.figure()\n",
    "            df_tmp.plot(x='Price', y='year', kind='scatter', alpha=0.5, grid=True)\n",
    "    df_noname = df_noold.loc[~df_noold['Brand'].isin(list_top_brend)]\n",
    "    df_any_grouped.append(df_noname)\n",
    "    total = 0\n",
    "    for df_by_brend in df_any_grouped:\n",
    "        tmp_total = df_by_brend.shape[0]\n",
    "        total += tmp_total\n",
    "    if total - df.shape[0] == 0:\n",
    "        print('База перераспределена без потерь')\n",
    "    else:\n",
    "        print('База перераспределена с потерями')\n",
    "    return df_any_grouped, list_top_brend"
   ]
  },
  {
   "cell_type": "code",
   "execution_count": null,
   "metadata": {},
   "outputs": [],
   "source": [
    "group_by_brand_result = group_by_brand(df, 5000, show_group=True)\n",
    "df_grouped = group_by_brand_result[0]\n",
    "list_top_brend = group_by_brand_result[1]"
   ]
  },
  {
   "cell_type": "code",
   "execution_count": null,
   "metadata": {},
   "outputs": [],
   "source": [
    "def make_model1 (brand):\n",
    "    if brand == 'fiat' or brand == 'mazda':\n",
    "        return 'fiatmazda'\n",
    "    elif brand == 'peugeot' or brand == 'renault':\n",
    "        return 'peugeotrenault'\n",
    "    elif brand == 'seat' or brand == 'skoda':\n",
    "        return 'seatskoda'\n",
    "    else:\n",
    "        return brand\n",
    "    \n",
    "    \n",
    "df['Brand'] = df.apply(lambda x: make_model1(x['Brand']), axis=1)\n",
    "top_brand_del = ['fiat', 'mazda', 'peugeot','renault', 'seat', 'skoda']\n",
    "top_brand_add = ['fiatmazda', 'peugeotrenault', 'seatskoda']\n",
    "for brand_del in top_brand_del:\n",
    "    list_top_brend.remove(brand_del)\n",
    "for brand_add in top_brand_add:\n",
    "    list_top_brend.append(brand_add)"
   ]
  },
  {
   "cell_type": "code",
   "execution_count": null,
   "metadata": {},
   "outputs": [],
   "source": [
    "df_all = []\n",
    "list_brand_all = []\n",
    "for i in range(4):\n",
    "    group_by_brand_result = group_by_brand(df, 5000 + i * 5000)\n",
    "    df_grouped = group_by_brand_result[0]\n",
    "    df_grouped.append(df) #Для проверки работающей модели на всей выборке добавим в группу всю выборку.\n",
    "    for df_gr in df_grouped[1:-2]: #В таблицах сгруппированных по одному бренду - удаляем столбец \"Brand\".\n",
    "        df_gr.drop(['Brand'], axis=1, inplace=True)\n",
    "    list_top_brend = group_by_brand_result[1]\n",
    "    df_all.append(df_grouped)\n",
    "    list_brand_all.append(list_top_brend)"
   ]
  },
  {
   "cell_type": "code",
   "execution_count": null,
   "metadata": {},
   "outputs": [],
   "source": [
    "df_all[2]"
   ]
  },
  {
   "cell_type": "code",
   "execution_count": null,
   "metadata": {},
   "outputs": [],
   "source": [
    "col_for_del = set(['DateCrawled', 'VehicleType', 'RegistrationMonth', 'Brand', 'NotRepaired', 'DateCreated', 'PostalCode', 'LastSeen', 'Type_year', 'mileage_140'])"
   ]
  },
  {
   "cell_type": "markdown",
   "metadata": {},
   "source": [
    "# 2. Обучение моделей"
   ]
  },
  {
   "cell_type": "code",
   "execution_count": null,
   "metadata": {},
   "outputs": [],
   "source": [
    "cat_columns_all = set(['DateCrawled', 'VehicleType', 'Gearbox', 'FuelType', 'Brand', 'NotRepaired', 'DateCreated', 'LastSeen', 'model', 'Type_year', 'mileage_140'])\n",
    "\n",
    "for i in range(len(df_all)):\n",
    "    df_any_grouped = df_all[i]\n",
    "    for df_gr in df_any_grouped:\n",
    "        tmp_head_col = set(df_gr.columns)\n",
    "        tmp_cat_col = cat_columns_all.intersection(tmp_head_col)\n",
    "        tmp_cat_col = list(tmp_cat_col)\n",
    "        for col in tmp_cat_col:\n",
    "            df_gr[col] = df_gr[col].astype('category')"
   ]
  },
  {
   "cell_type": "code",
   "execution_count": null,
   "metadata": {},
   "outputs": [],
   "source": [
    "def lgbm (df, num_leaves=50, learning_rate_default = 1, max_bin=50, num_iterations=100, time_calc=False):\n",
    "    df_columns = set(df.columns)\n",
    "    cat_columns = df_columns.intersection(cat_columns_all)\n",
    "    cat_columns = list(cat_columns)\n",
    "    train_features, test_features, train_target, test_target  = (\n",
    "        train_test_split(df.drop(['Price'], axis=1), df['Price'], test_size=0.25, random_state =1))\n",
    "    lgb_train = lgb.Dataset(train_features, train_target, categorical_feature=cat_columns)\n",
    "    lgb_eval = lgb.Dataset(test_features, test_target, reference=lgb_train, categorical_feature=cat_columns)\n",
    "    params = {\n",
    "    'boosting_type': 'gbdt',\n",
    "    'objective': 'regression',\n",
    "    'metric': {'rmse'},\n",
    "    'num_leaves': num_leaves,\n",
    "    'num_tress': 500,\n",
    "    'num_iterations': num_iterations,\n",
    "    'min_data_in_leaf' : 0,\n",
    "    'min_sum_hessian_in_leaf' : 100,\n",
    "    'max_depth' : -1,\n",
    "    'num_threads': 16, \n",
    "    'max_bin' : max_bin,\n",
    "    'learning_rate':  learning_rate_default,\n",
    "    'feature_fraction': 0.5,\n",
    "    'bagging_fraction': 1,\n",
    "    'bagging_freq': 0\n",
    "    }\n",
    "    start_time_fit = timeit.default_timer()\n",
    "    gbm = lgb.train(params,\n",
    "    lgb_train,\n",
    "    num_boost_round=10,\n",
    "    valid_sets=lgb_eval,\n",
    "    early_stopping_rounds=5)\n",
    "    finish_time_fit = timeit.default_timer()\n",
    "    time_fit = finish_time_fit - start_time_fit\n",
    "    start_time_predict = timeit.default_timer()\n",
    "    predictions = gbm.predict(test_features, num_iteration=gbm.best_iteration)\n",
    "    finish_time_predict = timeit.default_timer()\n",
    "    time_predict = finish_time_predict - start_time_predict\n",
    "    if time_calc==True:\n",
    "        return (test_target, predictions, time_fit, time_predict)\n",
    "    rmse_level = mean_squared_error(predictions, test_target)**0.5\n",
    "    return rmse_level"
   ]
  },
  {
   "cell_type": "code",
   "execution_count": null,
   "metadata": {},
   "outputs": [],
   "source": [
    "def get_time (df_all, learning_rate=1, max_bin=50, return_time=False):\n",
    "    predictions = []\n",
    "    target = []\n",
    "    time_fit1 = []\n",
    "    time_predict1 = []\n",
    "    for i in range(len(df_all)):\n",
    "        score_for_glgbm = lgbm(df_all[i], best_config[i], learning_rate, max_bin, num_iterations=150, time_calc=True)\n",
    "        tmp_target = pd.Series(score_for_glgbm[0])\n",
    "        tmp_pred = pd.Series(score_for_glgbm[1])\n",
    "        tmp_time_fit = score_for_glgbm[2]\n",
    "        tmp_time_predict = score_for_glgbm[3]\n",
    "        target.extend(tmp_target)\n",
    "        predictions.extend(tmp_pred)\n",
    "        time_fit1.append(tmp_time_fit)\n",
    "        time_predict1.append(tmp_time_predict)\n",
    "    rmse_level = mean_squared_error(predictions, target)**0.5\n",
    "    if return_time==True:\n",
    "        return (rmse_level, sum(time_fit1), sum(time_predict1) / len(df_all))\n",
    "    else:\n",
    "        return rmse_level"
   ]
  },
  {
   "cell_type": "code",
   "execution_count": null,
   "metadata": {},
   "outputs": [],
   "source": [
    "best_config = [50] * 20 "
   ]
  },
  {
   "cell_type": "code",
   "execution_count": null,
   "metadata": {},
   "outputs": [],
   "source": [
    "i = 0\n",
    "tmp_result = []\n",
    "for df_gr in df_all:\n",
    "    i += 1\n",
    "    tmp_rmse = get_time(df_gr, return_time=False)\n",
    "    tmp_result.append(tmp_rmse)"
   ]
  },
  {
   "cell_type": "code",
   "execution_count": null,
   "metadata": {},
   "outputs": [],
   "source": [
    "tmp_result"
   ]
  },
  {
   "cell_type": "code",
   "execution_count": null,
   "metadata": {},
   "outputs": [],
   "source": [
    "col_for_del_year = ['year', 'Type_year']"
   ]
  },
  {
   "cell_type": "code",
   "execution_count": null,
   "metadata": {},
   "outputs": [],
   "source": [
    "def check_category_rmse (df, list_col):\n",
    "    tmp_result = []\n",
    "    for col in list_col:\n",
    "        tmp_rmse = lgbm(df.drop(col, axis=1))\n",
    "        print('df-delcol', df.drop(col, axis=1).info())\n",
    "        tmp_result.append(tmp_rmse)\n",
    "        print('tmpRMSE', tmp_rmse, col)\n",
    "    tmp_result.append(lgbm(df))\n",
    "    return tmp_result"
   ]
  },
  {
   "cell_type": "code",
   "execution_count": null,
   "metadata": {},
   "outputs": [],
   "source": [
    "tmp_result = check_category_rmse(df, col_for_del_year)\n",
    "tmp_result"
   ]
  },
  {
   "cell_type": "code",
   "execution_count": null,
   "metadata": {},
   "outputs": [],
   "source": [
    "tmp_result = check_category_rmse(df, col_for_del_mileage)\n",
    "tmp_result"
   ]
  },
  {
   "cell_type": "code",
   "execution_count": null,
   "metadata": {},
   "outputs": [],
   "source": [
    "col_for_del_mileage = ['Kilometer', 'mileage_140']"
   ]
  },
  {
   "cell_type": "code",
   "execution_count": null,
   "metadata": {},
   "outputs": [],
   "source": [
    "df_any_grouped = df_all[0]"
   ]
  },
  {
   "cell_type": "code",
   "execution_count": null,
   "metadata": {},
   "outputs": [],
   "source": [
    "df_all = [] # список где хранятся все базы данных, после удаления лишних столбцов\n",
    "rmse_list = [] # список всех значений RMSE для каждой отдельной таблицы\n",
    "col_for_del_proven = [] # список всех колонок на удаление для каждой отдельной таблицы\n",
    "for df_gr in df_any_grouped:\n",
    "    rmse_df = lgbm(df_gr)\n",
    "    tmp_col_for_del_proven = []\n",
    "    tmp_rmse_list = [rmse_df]\n",
    "    df_min = df_gr.copy()\n",
    "    tmp_col_for_del = df_min.columns.intersection(col_for_del)\n",
    "    tmp_col_for_del = list(tmp_col_for_del)\n",
    "    for col in tmp_col_for_del:\n",
    "        print('Колонка тест', col)\n",
    "        df_tmp = df_min.drop(col, axis=1)\n",
    "        rmse_df_tmp = lgbm(df_tmp)\n",
    "        if rmse_df_tmp < rmse_df:\n",
    "            rmse_df = rmse_df_tmp\n",
    "            tmp_col_for_del_proven.append(col)\n",
    "            df_min = df_tmp\n",
    "        tmp_rmse_list.append(rmse_df_tmp)\n",
    "    df_all.append(df_min)\n",
    "    rmse_list.append(tmp_rmse_list)\n",
    "    col_for_del_proven.append(tmp_col_for_del_proven)"
   ]
  },
  {
   "cell_type": "code",
   "execution_count": null,
   "metadata": {},
   "outputs": [],
   "source": [
    "col_for_del_proven"
   ]
  },
  {
   "cell_type": "code",
   "execution_count": null,
   "metadata": {},
   "outputs": [],
   "source": [
    "best_rmse = []\n",
    "for list_gr in rmse_list:\n",
    "    best_gr_rmse = min(list_gr)\n",
    "    best_rmse.append(best_gr_rmse)\n",
    "best_rmse"
   ]
  },
  {
   "cell_type": "code",
   "execution_count": null,
   "metadata": {},
   "outputs": [],
   "source": [
    "df_all[-1]"
   ]
  },
  {
   "cell_type": "code",
   "execution_count": null,
   "metadata": {},
   "outputs": [],
   "source": [
    "def config_model (df, best_rmse):\n",
    "    num_leavex_best = 50\n",
    "    for i in (range(10)):\n",
    "        tmp_num_leaves =  50 + i * 50\n",
    "        tmp_rmse = lgbm(df, num_leaves=tmp_num_leaves)\n",
    "        if best_rmse > tmp_rmse:\n",
    "            best_rmse = tmp_rmse\n",
    "            num_leavex_best = tmp_num_leaves\n",
    "    return num_leavex_best"
   ]
  },
  {
   "cell_type": "code",
   "execution_count": null,
   "metadata": {},
   "outputs": [],
   "source": [
    "best_config = []\n",
    "for ii in range(len(df_all)):\n",
    "    best_rmse_gr = best_rmse[ii]\n",
    "    best_config_gr = config_model(df_all[ii], best_rmse_gr) # здесь хранится итог, и показатель num_leaves для лучшей точности\n",
    "    best_config.append(best_config_gr)"
   ]
  },
  {
   "cell_type": "markdown",
   "metadata": {},
   "source": [
    "best_config"
   ]
  },
  {
   "cell_type": "code",
   "execution_count": null,
   "metadata": {},
   "outputs": [],
   "source": [
    "df_all[:-1]"
   ]
  },
  {
   "cell_type": "code",
   "execution_count": null,
   "metadata": {},
   "outputs": [],
   "source": [
    "time_result = []\n",
    "for i in range(5):\n",
    "    tmp_time_result = get_time(df_all[:-1], learning_rate=0.5/(i+1), max_bin=50*(i+1), return_time=True)\n",
    "    time_result.append(tmp_time_result)"
   ]
  },
  {
   "cell_type": "code",
   "execution_count": null,
   "metadata": {},
   "outputs": [],
   "source": [
    "time_result_full = []\n",
    "for i in range(5):\n",
    "    tmp_time_result_full = lgbm(df_all[-1], learning_rate_default=0.5/(i+1), max_bin=50*(i+1), time_calc=True)\n",
    "    rmse_level = mean_squared_error(tmp_time_result_full[1], tmp_time_result_full[0])**0.5\n",
    "    tmp_time_fit = tmp_time_result_full[2]\n",
    "    tmp_time_predict = tmp_time_result_full[3]\n",
    "    time_result_full_tmp = [rmse_level, tmp_time_fit, tmp_time_predict]\n",
    "    time_result_full.append(time_result_full_tmp)"
   ]
  },
  {
   "cell_type": "markdown",
   "metadata": {},
   "source": [
    "# 3. Анализ моделей"
   ]
  },
  {
   "cell_type": "code",
   "execution_count": null,
   "metadata": {},
   "outputs": [],
   "source": [
    "df_total = pd.DataFrame(time_result, columns=['rmse', 'time_fit', 'time_predict'])\n",
    "df_total"
   ]
  },
  {
   "cell_type": "code",
   "execution_count": null,
   "metadata": {},
   "outputs": [],
   "source": [
    "df_total_full = pd.DataFrame(time_result_full, columns=['rmse', 'time_fit', 'time_predict'])\n",
    "df_total_full"
   ]
  }
 ],
 "metadata": {
  "kernelspec": {
   "display_name": "Python 3",
   "language": "python",
   "name": "python3"
  },
  "language_info": {
   "codemirror_mode": {
    "name": "ipython",
    "version": 3
   },
   "file_extension": ".py",
   "mimetype": "text/x-python",
   "name": "python",
   "nbconvert_exporter": "python",
   "pygments_lexer": "ipython3",
   "version": "3.7.6"
  }
 },
 "nbformat": 4,
 "nbformat_minor": 2
}
